{
 "cells": [
  {
   "cell_type": "markdown",
   "metadata": {},
   "source": [
    "Euclidean Travelling Salesman Problem"
   ]
  },
  {
   "cell_type": "code",
   "execution_count": 16,
   "metadata": {},
   "outputs": [],
   "source": [
    "from math import sqrt\n",
    "import random\n",
    "import numpy as np\n",
    "import matplotlib.pyplot as plt\n",
    "from itertools import count\n",
    "import networkx as nx\n",
    "import time\n",
    "\n",
    "from io import BytesIO\n",
    "from urllib.request import urlopen\n",
    "from selenium import webdriver\n",
    "from selenium.webdriver.support import ui\n",
    "from selenium.webdriver.support import expected_conditions as EC\n",
    "from selenium.webdriver.common.action_chains import ActionChains\n",
    "from selenium.webdriver.common.keys import Keys\n",
    "from selenium.webdriver.common.by import By"
   ]
  },
  {
   "cell_type": "markdown",
   "metadata": {},
   "source": [
    "Manual ETSP"
   ]
  },
  {
   "cell_type": "code",
   "execution_count": null,
   "metadata": {
    "deletable": false,
    "editable": false,
    "run_control": {
     "frozen": true
    }
   },
   "outputs": [],
   "source": [
    "with open('./initializer/test_data_1.txt', 'r') as file:\n",
    "    n_points = int(file.readline())\n",
    "    rows = [[float(x) for x in line.split(' ')[:]] for line in file]\n",
    "    cols = [list(col) for col in zip(*rows)]\n",
    "    \n",
    "x_cords = cols[1]\n",
    "y_cords = cols[2]\n",
    "points = list(zip(x_cords, y_cords))\n",
    "list_points = np.array([list(a) for a in zip(x_cords, y_cords)])\n",
    "name2point = {i: j for i, j in zip(count(start=1, step=1), points)}\n",
    "point2name = {y: x for x,y in name2point.items()}"
   ]
  },
  {
   "cell_type": "markdown",
   "metadata": {},
   "source": [
    "Auto ETSP"
   ]
  },
  {
   "cell_type": "code",
   "execution_count": 2,
   "metadata": {},
   "outputs": [],
   "source": [
    "options = webdriver.ChromeOptions()\n",
    "binary_yandex_driver_file = './initializer/yandexdriver.exe'\n",
    "driver = webdriver.Chrome(binary_yandex_driver_file, options=options)\n",
    "\n",
    "ETSP_step = [str(a) for a in range(1, 10)]\n",
    "step_number = ETSP_step[0]\n",
    "ETSP_link = \"/login?next=lesson%252F110889%252Fstep%252F\"+step_number\n",
    "\n",
    "driver.get(\"https://stepik.org\"+ETSP_link)\n",
    "    \n",
    "my_login = 'some.email@gmail.com'\n",
    "my_password = '*********'\n",
    "\n",
    "login_bar = ui.WebDriverWait(driver, 10).until(EC.element_to_be_clickable((By.LINK_TEXT, \"Log in\")))\n",
    "\n",
    "id_box = ui.WebDriverWait(driver, 10).until(EC.element_to_be_clickable((By.ID, \"id_login_email\")))\n",
    "id_box.send_keys(my_login)\n",
    "\n",
    "pass_box = ui.WebDriverWait(driver, 10).until(EC.element_to_be_clickable((By.ID, \"id_login_password\")))\n",
    "pass_box.send_keys(my_password)\n",
    "\n",
    "driver.find_element_by_xpath(\"//button[text()='Log in']\").click()\n",
    "\n",
    "time.sleep(10)\n",
    "fileLink_ETSP = [a.get_attribute('href') for a in driver.find_elements_by_xpath('//*[@id=\"ember140\"]/span/ul/li[1]/a')]\n",
    "fileLink_ETSP.append([a.get_attribute('href') for a in driver.find_elements_by_xpath('//*[@id=\"ember140\"]/span/ul/li[2]/a')])"
   ]
  },
  {
   "cell_type": "code",
   "execution_count": 3,
   "metadata": {},
   "outputs": [],
   "source": [
    "resp = urlopen(fileLink_ETSP[0])\n",
    "txt_data = BytesIO(resp.read())\n",
    "data = [[float(x) for x in line.decode('UTF-8').split(' ')[:]] for line in txt_data.readlines()]\n",
    "\n",
    "n_points = int(data[0][0])\n",
    "points = [x[1:] for x in data][1:]\n",
    "tuple_points = [tuple(a) for a in points]\n",
    "name2point = {i: j for i, j in zip(count(start=1, step=1), tuple_points)}\n",
    "point2name = {y: x for x,y in name2point.items()}"
   ]
  },
  {
   "cell_type": "code",
   "execution_count": 4,
   "metadata": {},
   "outputs": [],
   "source": [
    "def idist(ip1, ip2):\n",
    "    global points\n",
    "    p1 = points[ip1]\n",
    "    p2 = points[ip2]\n",
    "    return sqrt((float(p1[0]) - float(p2[0]))**2 + (float(p1[1]) - float(p2[1]))**2)"
   ]
  },
  {
   "cell_type": "code",
   "execution_count": 5,
   "metadata": {},
   "outputs": [],
   "source": [
    "def euclidian_tsp(cords):\n",
    "    points = cords\n",
    "    circuit = list()\n",
    "    start_vertex = 0\n",
    "    dark_side = set(range(n_points)) - {start_vertex}\n",
    "\n",
    "    cycle = []\n",
    "    cycle.append(start_vertex)\n",
    "\n",
    "    current_vertex = start_vertex\n",
    "    while len(dark_side) > 0:\n",
    "        min_distance = None\n",
    "        best_v = None\n",
    "        for v in dark_side:\n",
    "            if ((min_distance is None) or \n",
    "                (min_distance > idist(current_vertex, v))):\n",
    "                min_distance = idist(current_vertex, v)\n",
    "                best_v = v\n",
    "        circuit.append((current_vertex, best_v))\n",
    "        dark_side.remove(best_v)\n",
    "        current_vertex = best_v\n",
    "        cycle.append(current_vertex)\n",
    "\n",
    "    circuit.append((current_vertex, start_vertex))\n",
    "    circuit_length = sum(idist(*e) for e in circuit)\n",
    "    OutputCircuit = [a for (a, b) in circuit]\n",
    "    OutputCircuit.append(start_vertex)\n",
    "\n",
    "    return OutputCircuit, circuit_length"
   ]
  },
  {
   "cell_type": "code",
   "execution_count": 6,
   "metadata": {},
   "outputs": [],
   "source": [
    "\n",
    "def tourCost(route):\n",
    "    totalDistance =0.0\n",
    "    size = len(route)\n",
    "    for index in range(size):\n",
    "        if index == size-1 :\n",
    "            point2 = route[0]\n",
    "        else:\n",
    "            point2 = route[index+1]\n",
    "        totalDistance +=  idist(route[index], point2)\n",
    "    return totalDistance\n",
    "\n",
    "def swapper(route,i,k):\n",
    "    r1=route[:i] \n",
    "    r2=route[i:k] \n",
    "    r2=r2[::-1] \n",
    "    r3=route[k:]\n",
    "    return(r1+r2+r3)\n",
    "\n",
    "def super_duper():\n",
    "    route, dist = euclidian_tsp(points)\n",
    "    for i in range(len(points)):\n",
    "        for j in range(i,len(points)):\n",
    "            new_route = swapper(route[:],i,j)\n",
    "            new_dist=tourCost(new_route)\n",
    "\n",
    "            if(new_dist<dist):\n",
    "                dist=new_dist\n",
    "                route=new_route\n",
    "    route = [a+1 for a in route]\n",
    "    return route, new_dist"
   ]
  },
  {
   "cell_type": "code",
   "execution_count": 37,
   "metadata": {},
   "outputs": [],
   "source": [
    "id_tour = super_duper()[0]\n",
    "costa_ricca = super_duper()[1]\n",
    "tour_answer = ' '.join(str(e) for e in id_tour)"
   ]
  },
  {
   "cell_type": "code",
   "execution_count": null,
   "metadata": {},
   "outputs": [],
   "source": [
    "cords_tour = []\n",
    "for i in id_tour:\n",
    "    cords_tour.append(name2point[i])\n",
    "    \n",
    "edge_list = list(zip(id_tour[:-1], id_tour[1:]))"
   ]
  },
  {
   "cell_type": "code",
   "execution_count": null,
   "metadata": {},
   "outputs": [],
   "source": [
    "%load_ext line_profiler\n",
    "%lprun -f super_duper super_duper()"
   ]
  },
  {
   "cell_type": "code",
   "execution_count": null,
   "metadata": {},
   "outputs": [],
   "source": [
    "print(id_tour)\n",
    "G = nx.DiGraph()\n",
    "G.add_nodes_from(id_tour)\n",
    "G.add_edges_from(edge_list)\n",
    "edge_colors = ['black']\n",
    "pos = nx.spiral_layout(G)\n",
    "\n",
    "plt.figure(1,figsize=(25,8))\n",
    "x = []\n",
    "y = []\n",
    "for point in points:\n",
    "    x.append(point[0])\n",
    "    y.append(point[1])\n",
    "plt.scatter(x, y)\n",
    "plt.show()\n",
    "\n",
    "plt.figure(2,figsize=(25,25))\n",
    "nx.draw(G, pos, node_size=15, edge_color=edge_colors, edge_cmap=plt.cm.Reds, with_labels = True)\n",
    "\n",
    "plt.show()"
   ]
  },
  {
   "cell_type": "code",
   "execution_count": null,
   "metadata": {
    "deletable": false,
    "editable": false,
    "run_control": {
     "frozen": true
    }
   },
   "outputs": [],
   "source": [
    "answer_box = ui.WebDriverWait(driver, 5).until(EC.element_to_be_clickable((By.TAG_NAME, \"textarea\")))\n",
    "answer_box.click()\n",
    "answer_box.send_keys(tour_answer)"
   ]
  },
  {
   "cell_type": "code",
   "execution_count": null,
   "metadata": {},
   "outputs": [],
   "source": []
  },
  {
   "cell_type": "code",
   "execution_count": null,
   "metadata": {},
   "outputs": [],
   "source": []
  }
 ],
 "metadata": {
  "kernelspec": {
   "display_name": "Python 3",
   "language": "python",
   "name": "python3"
  },
  "language_info": {
   "codemirror_mode": {
    "name": "ipython",
    "version": 3
   },
   "file_extension": ".py",
   "mimetype": "text/x-python",
   "name": "python",
   "nbconvert_exporter": "python",
   "pygments_lexer": "ipython3",
   "version": "3.7.6"
  }
 },
 "nbformat": 4,
 "nbformat_minor": 4
}
