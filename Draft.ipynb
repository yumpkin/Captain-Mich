{
 "cells": [
  {
   "cell_type": "code",
   "execution_count": 21,
   "metadata": {},
   "outputs": [],
   "source": [
    "from math import sqrt\n",
    "import random\n",
    "import numpy as np\n",
    "import matplotlib.pyplot as plt\n",
    "import itertools\n",
    "from itertools import count\n",
    "import networkx as nx\n",
    "import time\n",
    "from collections.abc import Iterable\n",
    "from matplotlib import patches\n",
    "import matplotlib.gridspec as gridspec"
   ]
  },
  {
   "cell_type": "code",
   "execution_count": 22,
   "metadata": {},
   "outputs": [],
   "source": [
    "with open('./initializer/dataset_1.txt', 'r') as file:\n",
    "    parameters = [int(x) for x in file.readline().split(' ')[:]]\n",
    "    rows = [[int(x) for x in line.split(' ')[:]] for line in file]\n",
    "    cols = [list(col) for col in zip(*rows)]\n",
    "\n",
    "x_cords = cols[0]\n",
    "y_cords = cols[1]\n",
    "m_amount = cols[2]\n",
    "\n",
    "n_islands, p_cost_factor, k_consicutive_islands, money_limit  = parameters[0], parameters[1], parameters[2], parameters[3]\n",
    "\n",
    "cords_data = list(zip(x_cords, y_cords))\n",
    "\n",
    "name2point = {i: j for i, j in zip(count(start=0, step=1), cords_data)}\n",
    "point2name = {y: x for x,y in name2point.items()}\n",
    "\n",
    "cords2money = {i: j for i, j in zip(cords_data, m_amount)}\n",
    "island2money = {i: j for i, j in zip(count(start=0, step=1), m_amount)}"
   ]
  },
  {
   "cell_type": "code",
   "execution_count": 24,
   "metadata": {},
   "outputs": [],
   "source": [
    "def Indexed_reachingCost(ip1, ip2):\n",
    "    global cords_data\n",
    "    p1 = cords_data[ip1]\n",
    "    p2 = cords_data[ip2]\n",
    "    return p_cost_factor * (sqrt((p1[0] - p2[0]) ** 2 + (p1[1] - p2[1]) ** 2))\n",
    "\n",
    "def factor_calc(currentIsland, nextIsland):\n",
    "    pc_factor = island2money[nextIsland] - Indexed_reachingCost(nextIsland, currentIsland)\n",
    "    return pc_factor"
   ]
  },
  {
   "cell_type": "code",
   "execution_count": 25,
   "metadata": {},
   "outputs": [],
   "source": [
    "def BestFactor_circuit(cord):\n",
    "    cord = cords_data\n",
    "    circuit = list()\n",
    "    start_vertex = 0\n",
    "    dark_side = set(range(n_islands)) - {start_vertex}\n",
    "\n",
    "    current_vertex = start_vertex\n",
    "    while len(dark_side) > 0:\n",
    "        max_factor = None\n",
    "        best_v = None\n",
    "        for v in dark_side:\n",
    "            factor = factor_calc(current_vertex, v)\n",
    "            if factor < 0:\n",
    "                continue\n",
    "            elif ((max_factor is None) or (max_factor < factor)):\n",
    "                max_factor = factor\n",
    "                best_v = v\n",
    "        if best_v is not None:\n",
    "            circuit.append((current_vertex, best_v))\n",
    "            dark_side.remove(best_v)\n",
    "            current_vertex = best_v\n",
    "\n",
    "    circuit.append((current_vertex, start_vertex))\n",
    "\n",
    "    circuitCost = sum(Indexed_reachingCost(*e) for e in circuit)\n",
    "    \n",
    "    OutputCircuit = [a for (a, b) in circuit]\n",
    "    CircuitCords = [name2point[a] for a in OutputCircuit]\n",
    "    circuitProfit = sum(cords2money[i] for i in CircuitCords) - island2money[0]\n",
    "\n",
    "    netProfit = circuitProfit - circuitCost\n",
    "    \n",
    "    return OutputCircuit+[start_vertex], netProfit\n"
   ]
  },
  {
   "cell_type": "code",
   "execution_count": 23,
   "metadata": {},
   "outputs": [],
   "source": [
    "def buildEdges(iterable):\n",
    "    a, b = itertools.tee(iterable)\n",
    "    next(b, None)\n",
    "    return list(zip(a, b))\n",
    "\n",
    "def tourCost(tour):\n",
    "    edge_list = buildEdges(tour)\n",
    "    totalCost = sum(Indexed_reachingCost(*e) for e in edge_list)\n",
    "    return totalCost\n",
    "    \n",
    "def tourProfit(tour):\n",
    "    CircuitCords = [name2point[a] for a in tour]\n",
    "    totalProfit = sum(cords2money[i] for i in CircuitCords)\n",
    "    return totalProfit\n",
    "\n",
    "def edgesFactor(tour):\n",
    "    factor = tourProfit(tour) - tourCost(tour)\n",
    "    return factor"
   ]
  },
  {
   "cell_type": "code",
   "execution_count": 48,
   "metadata": {},
   "outputs": [],
   "source": [
    " def decision():\n",
    "    mini = 0\n",
    "    minj = 0\n",
    "    for i in range(len(cords_data)-2):\n",
    "        for j in range(i+2, len(cords_data)):\n",
    "            minchange = factor_calc(i,i+1) + factor_calc(j,j+1)\n",
    "            change = factor_calc(i,j) + factor_calc(i+1,j+1) - minchange\n",
    "            if (minchange < change):\n",
    "                minchange = change\n",
    "                mini = i\n",
    "                minj = j\n",
    "    return mini, minj"
   ]
  },
  {
   "cell_type": "code",
   "execution_count": 26,
   "metadata": {},
   "outputs": [],
   "source": [
    "def swapper (route, i, k, tourFactor):\n",
    "    r1 = route[:i]\n",
    "    r2 = route[i:k]\n",
    "    r2 = r2[::-1]\n",
    "    r3 = route[k:]\n",
    "    \n",
    "    new_route = r1+r2+r3\n",
    "    return (new_route)"
   ]
  },
  {
   "cell_type": "code",
   "execution_count": 27,
   "metadata": {},
   "outputs": [],
   "source": [
    "def super_duper():\n",
    "    route, factor = BestFactor_circuit(cords_data)\n",
    "    for i in range(len(cords_data)):\n",
    "        for j in range(i,len(cords_data)):\n",
    "            new_route, new_factor = swapper(route[:], i, j, factor)\n",
    "            new_factor = factor + edgesFactor(route[decision()[0], decision[1]])\n",
    "            if(new_factor>factor) and new_route[0] == new_route[-1] == 0:\n",
    "                factor=new_factor\n",
    "                route=new_route\n",
    "            \n",
    "    route = [a+1 for a in route]\n",
    "    return route, tourFactor"
   ]
  },
  {
   "cell_type": "code",
   "execution_count": 49,
   "metadata": {},
   "outputs": [
    {
     "ename": "KeyError",
     "evalue": "980",
     "output_type": "error",
     "traceback": [
      "\u001b[1;31m---------------------------------------------------------------------------\u001b[0m",
      "\u001b[1;31mKeyError\u001b[0m                                  Traceback (most recent call last)",
      "\u001b[1;32m<ipython-input-49-32008dfe7580>\u001b[0m in \u001b[0;36m<module>\u001b[1;34m\u001b[0m\n\u001b[1;32m----> 1\u001b[1;33m \u001b[0mdecision\u001b[0m\u001b[1;33m(\u001b[0m\u001b[1;33m)\u001b[0m\u001b[1;33m\u001b[0m\u001b[1;33m\u001b[0m\u001b[0m\n\u001b[0m",
      "\u001b[1;32m<ipython-input-48-d3b101fad0f4>\u001b[0m in \u001b[0;36mdecision\u001b[1;34m()\u001b[0m\n\u001b[0;32m      4\u001b[0m    \u001b[1;32mfor\u001b[0m \u001b[0mi\u001b[0m \u001b[1;32min\u001b[0m \u001b[0mrange\u001b[0m\u001b[1;33m(\u001b[0m\u001b[0mlen\u001b[0m\u001b[1;33m(\u001b[0m\u001b[0mcords_data\u001b[0m\u001b[1;33m)\u001b[0m\u001b[1;33m-\u001b[0m\u001b[1;36m2\u001b[0m\u001b[1;33m)\u001b[0m\u001b[1;33m:\u001b[0m\u001b[1;33m\u001b[0m\u001b[1;33m\u001b[0m\u001b[0m\n\u001b[0;32m      5\u001b[0m        \u001b[1;32mfor\u001b[0m \u001b[0mj\u001b[0m \u001b[1;32min\u001b[0m \u001b[0mrange\u001b[0m\u001b[1;33m(\u001b[0m\u001b[0mi\u001b[0m\u001b[1;33m+\u001b[0m\u001b[1;36m2\u001b[0m\u001b[1;33m,\u001b[0m \u001b[0mlen\u001b[0m\u001b[1;33m(\u001b[0m\u001b[0mcords_data\u001b[0m\u001b[1;33m)\u001b[0m\u001b[1;33m)\u001b[0m\u001b[1;33m:\u001b[0m\u001b[1;33m\u001b[0m\u001b[1;33m\u001b[0m\u001b[0m\n\u001b[1;32m----> 6\u001b[1;33m            \u001b[0mminchange\u001b[0m \u001b[1;33m=\u001b[0m \u001b[0mfactor_calc\u001b[0m\u001b[1;33m(\u001b[0m\u001b[0mi\u001b[0m\u001b[1;33m,\u001b[0m\u001b[0mi\u001b[0m\u001b[1;33m+\u001b[0m\u001b[1;36m1\u001b[0m\u001b[1;33m)\u001b[0m \u001b[1;33m+\u001b[0m \u001b[0mfactor_calc\u001b[0m\u001b[1;33m(\u001b[0m\u001b[0mj\u001b[0m\u001b[1;33m,\u001b[0m\u001b[0mj\u001b[0m\u001b[1;33m+\u001b[0m\u001b[1;36m1\u001b[0m\u001b[1;33m)\u001b[0m\u001b[1;33m\u001b[0m\u001b[1;33m\u001b[0m\u001b[0m\n\u001b[0m\u001b[0;32m      7\u001b[0m            \u001b[0mchange\u001b[0m \u001b[1;33m=\u001b[0m \u001b[0mfactor_calc\u001b[0m\u001b[1;33m(\u001b[0m\u001b[0mi\u001b[0m\u001b[1;33m,\u001b[0m\u001b[0mj\u001b[0m\u001b[1;33m)\u001b[0m \u001b[1;33m+\u001b[0m \u001b[0mfactor_calc\u001b[0m\u001b[1;33m(\u001b[0m\u001b[0mi\u001b[0m\u001b[1;33m+\u001b[0m\u001b[1;36m1\u001b[0m\u001b[1;33m,\u001b[0m\u001b[0mj\u001b[0m\u001b[1;33m+\u001b[0m\u001b[1;36m1\u001b[0m\u001b[1;33m)\u001b[0m \u001b[1;33m-\u001b[0m \u001b[0mminchange\u001b[0m\u001b[1;33m\u001b[0m\u001b[1;33m\u001b[0m\u001b[0m\n\u001b[0;32m      8\u001b[0m            \u001b[1;32mif\u001b[0m \u001b[1;33m(\u001b[0m\u001b[0mminchange\u001b[0m \u001b[1;33m<\u001b[0m \u001b[0mchange\u001b[0m\u001b[1;33m)\u001b[0m\u001b[1;33m:\u001b[0m\u001b[1;33m\u001b[0m\u001b[1;33m\u001b[0m\u001b[0m\n",
      "\u001b[1;32m<ipython-input-24-1b6d94b7666e>\u001b[0m in \u001b[0;36mfactor_calc\u001b[1;34m(currentIsland, nextIsland)\u001b[0m\n\u001b[0;32m      6\u001b[0m \u001b[1;33m\u001b[0m\u001b[0m\n\u001b[0;32m      7\u001b[0m \u001b[1;32mdef\u001b[0m \u001b[0mfactor_calc\u001b[0m\u001b[1;33m(\u001b[0m\u001b[0mcurrentIsland\u001b[0m\u001b[1;33m,\u001b[0m \u001b[0mnextIsland\u001b[0m\u001b[1;33m)\u001b[0m\u001b[1;33m:\u001b[0m\u001b[1;33m\u001b[0m\u001b[1;33m\u001b[0m\u001b[0m\n\u001b[1;32m----> 8\u001b[1;33m     \u001b[0mpc_factor\u001b[0m \u001b[1;33m=\u001b[0m \u001b[0misland2money\u001b[0m\u001b[1;33m[\u001b[0m\u001b[0mnextIsland\u001b[0m\u001b[1;33m]\u001b[0m \u001b[1;33m-\u001b[0m \u001b[0mIndexed_reachingCost\u001b[0m\u001b[1;33m(\u001b[0m\u001b[0mnextIsland\u001b[0m\u001b[1;33m,\u001b[0m \u001b[0mcurrentIsland\u001b[0m\u001b[1;33m)\u001b[0m\u001b[1;33m\u001b[0m\u001b[1;33m\u001b[0m\u001b[0m\n\u001b[0m\u001b[0;32m      9\u001b[0m     \u001b[1;32mreturn\u001b[0m \u001b[0mpc_factor\u001b[0m\u001b[1;33m\u001b[0m\u001b[1;33m\u001b[0m\u001b[0m\n",
      "\u001b[1;31mKeyError\u001b[0m: 980"
     ]
    }
   ],
   "source": [
    "decision()"
   ]
  },
  {
   "cell_type": "code",
   "execution_count": 28,
   "metadata": {},
   "outputs": [
    {
     "ename": "KeyboardInterrupt",
     "evalue": "",
     "output_type": "error",
     "traceback": [
      "\u001b[1;31m---------------------------------------------------------------------------\u001b[0m",
      "\u001b[1;31mKeyboardInterrupt\u001b[0m                         Traceback (most recent call last)",
      "\u001b[1;32m<ipython-input-28-5bbd15ffeab4>\u001b[0m in \u001b[0;36m<module>\u001b[1;34m\u001b[0m\n\u001b[1;32m----> 1\u001b[1;33m \u001b[0mid_tour\u001b[0m\u001b[1;33m,\u001b[0m \u001b[0mfactor\u001b[0m \u001b[1;33m=\u001b[0m \u001b[0msuper_duper\u001b[0m\u001b[1;33m(\u001b[0m\u001b[1;33m)\u001b[0m\u001b[1;33m\u001b[0m\u001b[1;33m\u001b[0m\u001b[0m\n\u001b[0m\u001b[0;32m      2\u001b[0m \u001b[0mhamiltonian_circuit\u001b[0m \u001b[1;33m=\u001b[0m \u001b[0mBestFactor_circuit\u001b[0m\u001b[1;33m(\u001b[0m\u001b[0mcords_data\u001b[0m\u001b[1;33m)\u001b[0m\u001b[1;33m[\u001b[0m\u001b[1;36m0\u001b[0m\u001b[1;33m]\u001b[0m\u001b[1;33m\u001b[0m\u001b[1;33m\u001b[0m\u001b[0m\n\u001b[0;32m      3\u001b[0m \u001b[0mcords_tour\u001b[0m \u001b[1;33m=\u001b[0m \u001b[1;33m[\u001b[0m\u001b[1;33m]\u001b[0m\u001b[1;33m\u001b[0m\u001b[1;33m\u001b[0m\u001b[0m\n\u001b[0;32m      4\u001b[0m \u001b[1;32mfor\u001b[0m \u001b[0mi\u001b[0m \u001b[1;32min\u001b[0m \u001b[0mid_tour\u001b[0m\u001b[1;33m:\u001b[0m\u001b[1;33m\u001b[0m\u001b[1;33m\u001b[0m\u001b[0m\n\u001b[0;32m      5\u001b[0m     \u001b[0mcords_tour\u001b[0m\u001b[1;33m.\u001b[0m\u001b[0mappend\u001b[0m\u001b[1;33m(\u001b[0m\u001b[0mname2point\u001b[0m\u001b[1;33m[\u001b[0m\u001b[0mi\u001b[0m\u001b[1;33m]\u001b[0m\u001b[1;33m)\u001b[0m\u001b[1;33m\u001b[0m\u001b[1;33m\u001b[0m\u001b[0m\n",
      "\u001b[1;32m<ipython-input-27-7d666cc287e7>\u001b[0m in \u001b[0;36msuper_duper\u001b[1;34m()\u001b[0m\n\u001b[0;32m      1\u001b[0m \u001b[1;32mdef\u001b[0m \u001b[0msuper_duper\u001b[0m\u001b[1;33m(\u001b[0m\u001b[1;33m)\u001b[0m\u001b[1;33m:\u001b[0m\u001b[1;33m\u001b[0m\u001b[1;33m\u001b[0m\u001b[0m\n\u001b[1;32m----> 2\u001b[1;33m     \u001b[0mroute\u001b[0m\u001b[1;33m,\u001b[0m \u001b[0mfactor\u001b[0m \u001b[1;33m=\u001b[0m \u001b[0mBestFactor_circuit\u001b[0m\u001b[1;33m(\u001b[0m\u001b[0mcords_data\u001b[0m\u001b[1;33m)\u001b[0m\u001b[1;33m\u001b[0m\u001b[1;33m\u001b[0m\u001b[0m\n\u001b[0m\u001b[0;32m      3\u001b[0m     \u001b[1;32mfor\u001b[0m \u001b[0mi\u001b[0m \u001b[1;32min\u001b[0m \u001b[0mrange\u001b[0m\u001b[1;33m(\u001b[0m\u001b[0mlen\u001b[0m\u001b[1;33m(\u001b[0m\u001b[0mcords_data\u001b[0m\u001b[1;33m)\u001b[0m\u001b[1;33m)\u001b[0m\u001b[1;33m:\u001b[0m\u001b[1;33m\u001b[0m\u001b[1;33m\u001b[0m\u001b[0m\n\u001b[0;32m      4\u001b[0m         \u001b[1;32mfor\u001b[0m \u001b[0mj\u001b[0m \u001b[1;32min\u001b[0m \u001b[0mrange\u001b[0m\u001b[1;33m(\u001b[0m\u001b[0mi\u001b[0m\u001b[1;33m,\u001b[0m\u001b[0mlen\u001b[0m\u001b[1;33m(\u001b[0m\u001b[0mcords_data\u001b[0m\u001b[1;33m)\u001b[0m\u001b[1;33m)\u001b[0m\u001b[1;33m:\u001b[0m\u001b[1;33m\u001b[0m\u001b[1;33m\u001b[0m\u001b[0m\n\u001b[0;32m      5\u001b[0m             \u001b[0mnew_route\u001b[0m\u001b[1;33m,\u001b[0m \u001b[0mnew_factor\u001b[0m \u001b[1;33m=\u001b[0m \u001b[0mswapper\u001b[0m\u001b[1;33m(\u001b[0m\u001b[0mroute\u001b[0m\u001b[1;33m[\u001b[0m\u001b[1;33m:\u001b[0m\u001b[1;33m]\u001b[0m\u001b[1;33m,\u001b[0m \u001b[0mi\u001b[0m\u001b[1;33m,\u001b[0m \u001b[0mj\u001b[0m\u001b[1;33m,\u001b[0m \u001b[0mfactor\u001b[0m\u001b[1;33m)\u001b[0m\u001b[1;33m\u001b[0m\u001b[1;33m\u001b[0m\u001b[0m\n",
      "\u001b[1;32m<ipython-input-25-28ef4b2b5e7a>\u001b[0m in \u001b[0;36mBestFactor_circuit\u001b[1;34m(cord)\u001b[0m\n\u001b[0;32m     10\u001b[0m         \u001b[0mbest_v\u001b[0m \u001b[1;33m=\u001b[0m \u001b[1;32mNone\u001b[0m\u001b[1;33m\u001b[0m\u001b[1;33m\u001b[0m\u001b[0m\n\u001b[0;32m     11\u001b[0m         \u001b[1;32mfor\u001b[0m \u001b[0mv\u001b[0m \u001b[1;32min\u001b[0m \u001b[0mdark_side\u001b[0m\u001b[1;33m:\u001b[0m\u001b[1;33m\u001b[0m\u001b[1;33m\u001b[0m\u001b[0m\n\u001b[1;32m---> 12\u001b[1;33m             \u001b[0mfactor\u001b[0m \u001b[1;33m=\u001b[0m \u001b[0mfactor_calc\u001b[0m\u001b[1;33m(\u001b[0m\u001b[0mcurrent_vertex\u001b[0m\u001b[1;33m,\u001b[0m \u001b[0mv\u001b[0m\u001b[1;33m)\u001b[0m\u001b[1;33m\u001b[0m\u001b[1;33m\u001b[0m\u001b[0m\n\u001b[0m\u001b[0;32m     13\u001b[0m             \u001b[1;32mif\u001b[0m \u001b[0mfactor\u001b[0m \u001b[1;33m<\u001b[0m \u001b[1;36m0\u001b[0m\u001b[1;33m:\u001b[0m\u001b[1;33m\u001b[0m\u001b[1;33m\u001b[0m\u001b[0m\n\u001b[0;32m     14\u001b[0m                 \u001b[1;32mcontinue\u001b[0m\u001b[1;33m\u001b[0m\u001b[1;33m\u001b[0m\u001b[0m\n",
      "\u001b[1;32m<ipython-input-24-1b6d94b7666e>\u001b[0m in \u001b[0;36mfactor_calc\u001b[1;34m(currentIsland, nextIsland)\u001b[0m\n\u001b[0;32m      6\u001b[0m \u001b[1;33m\u001b[0m\u001b[0m\n\u001b[0;32m      7\u001b[0m \u001b[1;32mdef\u001b[0m \u001b[0mfactor_calc\u001b[0m\u001b[1;33m(\u001b[0m\u001b[0mcurrentIsland\u001b[0m\u001b[1;33m,\u001b[0m \u001b[0mnextIsland\u001b[0m\u001b[1;33m)\u001b[0m\u001b[1;33m:\u001b[0m\u001b[1;33m\u001b[0m\u001b[1;33m\u001b[0m\u001b[0m\n\u001b[1;32m----> 8\u001b[1;33m     \u001b[0mpc_factor\u001b[0m \u001b[1;33m=\u001b[0m \u001b[0misland2money\u001b[0m\u001b[1;33m[\u001b[0m\u001b[0mnextIsland\u001b[0m\u001b[1;33m]\u001b[0m \u001b[1;33m-\u001b[0m \u001b[0mIndexed_reachingCost\u001b[0m\u001b[1;33m(\u001b[0m\u001b[0mnextIsland\u001b[0m\u001b[1;33m,\u001b[0m \u001b[0mcurrentIsland\u001b[0m\u001b[1;33m)\u001b[0m\u001b[1;33m\u001b[0m\u001b[1;33m\u001b[0m\u001b[0m\n\u001b[0m\u001b[0;32m      9\u001b[0m     \u001b[1;32mreturn\u001b[0m \u001b[0mpc_factor\u001b[0m\u001b[1;33m\u001b[0m\u001b[1;33m\u001b[0m\u001b[0m\n",
      "\u001b[1;32m<ipython-input-24-1b6d94b7666e>\u001b[0m in \u001b[0;36mIndexed_reachingCost\u001b[1;34m(ip1, ip2)\u001b[0m\n\u001b[0;32m      3\u001b[0m     \u001b[0mp1\u001b[0m \u001b[1;33m=\u001b[0m \u001b[0mcords_data\u001b[0m\u001b[1;33m[\u001b[0m\u001b[0mip1\u001b[0m\u001b[1;33m]\u001b[0m\u001b[1;33m\u001b[0m\u001b[1;33m\u001b[0m\u001b[0m\n\u001b[0;32m      4\u001b[0m     \u001b[0mp2\u001b[0m \u001b[1;33m=\u001b[0m \u001b[0mcords_data\u001b[0m\u001b[1;33m[\u001b[0m\u001b[0mip2\u001b[0m\u001b[1;33m]\u001b[0m\u001b[1;33m\u001b[0m\u001b[1;33m\u001b[0m\u001b[0m\n\u001b[1;32m----> 5\u001b[1;33m     \u001b[1;32mreturn\u001b[0m \u001b[0mp_cost_factor\u001b[0m \u001b[1;33m*\u001b[0m \u001b[1;33m(\u001b[0m\u001b[0msqrt\u001b[0m\u001b[1;33m(\u001b[0m\u001b[1;33m(\u001b[0m\u001b[0mp1\u001b[0m\u001b[1;33m[\u001b[0m\u001b[1;36m0\u001b[0m\u001b[1;33m]\u001b[0m \u001b[1;33m-\u001b[0m \u001b[0mp2\u001b[0m\u001b[1;33m[\u001b[0m\u001b[1;36m0\u001b[0m\u001b[1;33m]\u001b[0m\u001b[1;33m)\u001b[0m \u001b[1;33m**\u001b[0m \u001b[1;36m2\u001b[0m \u001b[1;33m+\u001b[0m \u001b[1;33m(\u001b[0m\u001b[0mp1\u001b[0m\u001b[1;33m[\u001b[0m\u001b[1;36m1\u001b[0m\u001b[1;33m]\u001b[0m \u001b[1;33m-\u001b[0m \u001b[0mp2\u001b[0m\u001b[1;33m[\u001b[0m\u001b[1;36m1\u001b[0m\u001b[1;33m]\u001b[0m\u001b[1;33m)\u001b[0m \u001b[1;33m**\u001b[0m \u001b[1;36m2\u001b[0m\u001b[1;33m)\u001b[0m\u001b[1;33m)\u001b[0m\u001b[1;33m\u001b[0m\u001b[1;33m\u001b[0m\u001b[0m\n\u001b[0m\u001b[0;32m      6\u001b[0m \u001b[1;33m\u001b[0m\u001b[0m\n\u001b[0;32m      7\u001b[0m \u001b[1;32mdef\u001b[0m \u001b[0mfactor_calc\u001b[0m\u001b[1;33m(\u001b[0m\u001b[0mcurrentIsland\u001b[0m\u001b[1;33m,\u001b[0m \u001b[0mnextIsland\u001b[0m\u001b[1;33m)\u001b[0m\u001b[1;33m:\u001b[0m\u001b[1;33m\u001b[0m\u001b[1;33m\u001b[0m\u001b[0m\n",
      "\u001b[1;31mKeyboardInterrupt\u001b[0m: "
     ]
    }
   ],
   "source": [
    "id_tour, factor = super_duper()\n",
    "hamiltonian_circuit = BestFactor_circuit(cords_data)[0]\n",
    "cords_tour = []\n",
    "for i in id_tour:\n",
    "    cords_tour.append(name2point[i])\n",
    "edge_list = list(zip(id_tour[:-1], id_tour[1:]))"
   ]
  },
  {
   "cell_type": "code",
   "execution_count": null,
   "metadata": {},
   "outputs": [],
   "source": [
    "plot_tour = [x + y for x, y in zip(cords_tour, cords_tour[1:])]\n",
    "t = [(random.uniform(1, 3),) + i for i in plot_tour]\n",
    "\n",
    "x = []\n",
    "y = []\n",
    "for point in cords_data:\n",
    "    x.append(point[0])\n",
    "    y.append(point[1])\n",
    "    \n",
    "data = np.array(t,dtype=[('MAG','int32'),('X0','int32'),('Y0','int32'),('X1','int32'),('Y1','int32')])"
   ]
  },
  {
   "cell_type": "code",
   "execution_count": null,
   "metadata": {},
   "outputs": [],
   "source": [
    "plt.figure(figsize=(12,8)) \n",
    "plt.scatter(data['X0'], data['Y0'], color='r', zorder=10)\n",
    "plt.scatter(data['X1'], data['Y1'], color='r', zorder=10)\n",
    "all_islands = plt.scatter(x, y, color='DarkGreen', label='Group 1')\n",
    "home_land = plt.scatter(cords_tour[0][0], cords_tour[0][1], color='Yellow', s=250, label='Group 2')\n",
    "\n",
    "for d in data:\n",
    "    if(d['MAG'] > 0):\n",
    "        plt.arrow(d['X0'],d['Y0'],d['X1']-d['X0'], d['Y1']-d['Y0'], \n",
    "         shape='full', color='b', lw=d['MAG']/2., length_includes_head=True, \n",
    "         zorder=0, head_length=10., head_width=8.)\n",
    "plt.show()"
   ]
  },
  {
   "cell_type": "code",
   "execution_count": null,
   "metadata": {},
   "outputs": [],
   "source": [
    "x = [point[0] for point in cords_data]\n",
    "y = [point[1] for point in cords_data]\n",
    "\n",
    "totalProfit = factor\n",
    "H_tour = []\n",
    "for i in hamiltonian_circuit:\n",
    "    H_tour.append(name2point[i])\n",
    "H_EDGES = list(zip(hamiltonian_circuit[:-1], hamiltonian_circuit[1:]))\n",
    "\n",
    "plot_hamiltonian = [x + y for x, y in zip(H_tour, H_tour[1:])]\n",
    "q = [(random.uniform(1, 3),) + i for i in plot_hamiltonian]\n",
    "data_H = np.array(q,dtype=[('MAG','float'),('X0','float'),('Y0','float'),('X1','float'),('Y1','float')])"
   ]
  },
  {
   "cell_type": "code",
   "execution_count": null,
   "metadata": {},
   "outputs": [],
   "source": [
    "fig1 = plt.figure(constrained_layout=True, figsize = (35, 28))\n",
    "spec2 = gridspec.GridSpec(ncols=3, nrows=3, figure=fig1)\n",
    "\n",
    "f1_ax1 = fig1.add_subplot(spec2[0, 0])\n",
    "x = [point[0] for point in cords_data]\n",
    "y = [point[1] for point in cords_data]\n",
    "rawIslands = f1_ax1.scatter(x, y, color='DarkGreen')\n",
    "f1_ax1.set_title('Given Dataset', fontsize=15)\n",
    "f1_ax1.annotate('total number of islands= {}'.format(n_islands), (0.02, 0.98), xycoords='axes fraction', va='center')\n",
    "\n",
    "f1_ax2 = fig1.add_subplot(spec2[0, 1])\n",
    "f1_ax2.scatter(data['X0'], data['Y0'], color='r', zorder=10)\n",
    "f1_ax2.scatter(data['X1'], data['Y1'], color='r', zorder=10)\n",
    "all_islands = f1_ax2.scatter(x, y, color='DarkGreen', label='Group 1')\n",
    "homeLand = f1_ax2.scatter(cords_tour[0][0], cords_tour[0][1], color='LightGreen', s=250)\n",
    "for d in data:\n",
    "    if(d['MAG'] > 0):\n",
    "        plt.arrow(d['X0'],d['Y0'],d['X1']-d['X0'], d['Y1']-d['Y0'], \n",
    "         shape='full', color='b', lw=d['MAG']/2., length_includes_head=True, \n",
    "         zorder=0, head_length=10., head_width=8.)\n",
    "f1_ax2.set_title('Vanilla 2-OPT', fontsize=15)\n",
    "f1_ax2.annotate('total NetProfit= {}'.format(totalProfit), (0.02, 0.98), xycoords='axes fraction', va='center')\n",
    "\n",
    "f1_ax3 = fig1.add_subplot(spec2[0, 2])\n",
    "f1_ax3.scatter(data_H['X0'], data_H['Y0'], color='r', zorder=10)\n",
    "f1_ax3.scatter(data_H['X1'], data_H['Y1'], color='r', zorder=10)\n",
    "all_islands = f1_ax3.scatter(x, y, color='DarkGreen', label='Group 1')\n",
    "homeLand = f1_ax3.scatter(H_tour[0][0], H_tour[0][1], color='LightGreen', s=250)\n",
    "for d in data_H:\n",
    "    if(d['MAG'] > 0):\n",
    "        plt.arrow(d['X0'],d['Y0'],d['X1']-d['X0'], d['Y1']-d['Y0'], \n",
    "         shape='full', color='b', lw=d['MAG']/2., length_includes_head=True, \n",
    "         zorder=0, head_length=10., head_width=8.)\n",
    "f1_ax3.set_title('NN-Hamiltonian Circuit', fontsize=15)\n",
    "\n",
    "f1_ax4 = fig1.add_subplot(spec2[1, 0])\n",
    "x = np.asarray(x_cords)\n",
    "y = np.asarray(y_cords)\n",
    "m = np.asarray(m_amount)\n",
    "f1_ax4 = plt.scatter(x, y, c = m, label='Group 1')\n",
    "\n",
    "f1_ax5 = fig1.add_subplot(spec2[1, 1])\n",
    "G = nx.DiGraph()\n",
    "G.add_nodes_from(id_tour)\n",
    "G.add_edges_from(edge_list)\n",
    "edge_colors = ['black']\n",
    "pos = nx.spiral_layout(G)\n",
    "nx.draw(G, pos, node_size=22, ax=f1_ax5, edge_color=edge_colors, edge_cmap=plt.cm.Reds, with_labels = False)\n",
    "f1_ax5.set_title('Cobweb Plot for Vanilla 2-OPT', fontsize=15)\n",
    "f1_ax5.annotate('Visiting all of the {} islands'.format(len(id_tour)-1), (0.44, 0.98), xycoords='axes fraction', va='center')\n",
    "\n",
    "f1_ax6 = fig1.add_subplot(spec2[1, 2])\n",
    "G = nx.DiGraph()\n",
    "G.add_nodes_from(hamiltonian_circuit)\n",
    "G.add_edges_from(H_EDGES)\n",
    "edge_colors = ['black']\n",
    "pos = nx.spiral_layout(G)\n",
    "nx.draw(G, pos, node_size=22, ax=f1_ax6, edge_color=edge_colors, edge_cmap=plt.cm.Reds, with_labels = False)\n",
    "f1_ax6.set_title('Cobweb Plot for Hamiltonian', fontsize=15)\n",
    "f1_ax6.annotate('Visiting all of the {} islands'.format(len(hamiltonian_circuit)-1), (0.44, 0.98), xycoords='axes fraction', va='center')\n",
    "\n"
   ]
  }
 ],
 "metadata": {
  "kernelspec": {
   "display_name": "Python 3",
   "language": "python",
   "name": "python3"
  },
  "language_info": {
   "codemirror_mode": {
    "name": "ipython",
    "version": 3
   },
   "file_extension": ".py",
   "mimetype": "text/x-python",
   "name": "python",
   "nbconvert_exporter": "python",
   "pygments_lexer": "ipython3",
   "version": "3.7.6"
  }
 },
 "nbformat": 4,
 "nbformat_minor": 4
}
