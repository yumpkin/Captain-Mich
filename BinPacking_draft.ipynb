{
 "cells": [
  {
   "cell_type": "code",
   "execution_count": 15,
   "metadata": {},
   "outputs": [
    {
     "name": "stdin",
     "output_type": "stream",
     "text": [
      " 6 100\n",
      " 6\n",
      " 12\n",
      " 15\n",
      " 40\n",
      " 43\n",
      " 82\n"
     ]
    }
   ],
   "source": [
    "n_bins, unified_size = list(map(int, input().split()))\n",
    "\n",
    "bins = []\n",
    "for i in range(n_bins):\n",
    "    bins.append(int(input()))"
   ]
  },
  {
   "cell_type": "code",
   "execution_count": 20,
   "metadata": {},
   "outputs": [
    {
     "name": "stdout",
     "output_type": "stream",
     "text": [
      "6 12 15 40 \n",
      "\n",
      "43 \n",
      "\n",
      "82 \n",
      "\n"
     ]
    }
   ],
   "source": [
    "def first_fit_dec(v, B):\n",
    "    n = len(v)\n",
    "    remain = [B]\n",
    "    sol = [[]]\n",
    "    for item in v:\n",
    "        for j,free in enumerate(remain):\n",
    "            if free > item:\n",
    "                remain[j] -= item\n",
    "                sol[j].append(item)\n",
    "                break\n",
    "        else:\n",
    "            sol.append([item])\n",
    "            remain.append(B-item)\n",
    "    for i in sol:\n",
    "        print(*i, \"\\n\")\n",
    "\n",
    "first_fit_dec(bins, unified_size)"
   ]
  }
 ],
 "metadata": {
  "kernelspec": {
   "display_name": "Python 3",
   "language": "python",
   "name": "python3"
  },
  "language_info": {
   "codemirror_mode": {
    "name": "ipython",
    "version": 3
   },
   "file_extension": ".py",
   "mimetype": "text/x-python",
   "name": "python",
   "nbconvert_exporter": "python",
   "pygments_lexer": "ipython3",
   "version": "3.7.6"
  }
 },
 "nbformat": 4,
 "nbformat_minor": 4
}
